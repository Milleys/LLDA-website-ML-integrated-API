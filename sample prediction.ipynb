{
 "cells": [
  {
   "cell_type": "code",
   "execution_count": 22,
   "id": "e631f57a-bab4-4e1c-ab09-dc89a265355b",
   "metadata": {},
   "outputs": [
    {
     "name": "stdout",
     "output_type": "stream",
     "text": [
      "Sample Prediction: 57000.7890625\n"
     ]
    }
   ],
   "source": [
    "import pandas as pd\n",
    "import pickle\n",
    "\n",
    "# Sample input data (replace with realistic values)\n",
    "sample_data = pd.DataFrame({\n",
    "    'Temperature': [28.32],  # Example temperature\n",
    "    'Humidity': [95.36],     # Example humidity\n",
    "    'Wind': [17],            # Example wind direction (mapped value)\n",
    "    'Wind Speed': [4.52],   # Example wind speed\n",
    "    'Condition': [2],       # Example weather condition (mapped value)\n",
    "    'pH (units)': [8.2],    # Example pH level\n",
    "    'Ammonia (mg/L)': [0.051], # Example ammonia level\n",
    "    'Nitrate (mg/L)': [0.046], # Example nitrate level\n",
    "    'Inorganic Phosphate (mg/L)': [0.362], # Example phosphate level\n",
    "    'BOD (mg/l)': [2],    # Example BOD level\n",
    "    'Dissolved Oxygen (mg/l)': [6.6], # Example dissolved oxygen level\n",
    "    'Total coliforms (MPN/100ml)': [196] # Example total coliforms\n",
    "})\n",
    "\n",
    "# Load the scaler\n",
    "with open('xgb_scaler.pkl', 'rb') as file:\n",
    "    scaler = pickle.load(file)\n",
    "\n",
    "# Standardize the sample input using the same scaler\n",
    "sample_data_scaled = scaler.transform(sample_data)\n",
    "\n",
    "# Load the saved model\n",
    "with open('xgb_model.pkl', 'rb') as file:\n",
    "    loaded_svr_model = pickle.load(file)\n",
    "\n",
    "# Predict using the loaded model\n",
    "sample_prediction = loaded_svr_model.predict(sample_data_scaled)\n",
    "\n",
    "# Print the prediction\n",
    "print(f'Sample Prediction: {sample_prediction[0]}')\n"
   ]
  },
  {
   "cell_type": "code",
   "execution_count": null,
   "id": "233e2567-94cc-4566-932f-d6e915936ff0",
   "metadata": {},
   "outputs": [],
   "source": []
  }
 ],
 "metadata": {
  "kernelspec": {
   "display_name": "Python 3 (ipykernel)",
   "language": "python",
   "name": "python3"
  },
  "language_info": {
   "codemirror_mode": {
    "name": "ipython",
    "version": 3
   },
   "file_extension": ".py",
   "mimetype": "text/x-python",
   "name": "python",
   "nbconvert_exporter": "python",
   "pygments_lexer": "ipython3",
   "version": "3.12.4"
  }
 },
 "nbformat": 4,
 "nbformat_minor": 5
}
