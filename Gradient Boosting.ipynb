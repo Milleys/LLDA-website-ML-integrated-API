{
 "cells": [
  {
   "cell_type": "code",
   "execution_count": 11,
   "id": "46eed6f7-e4f5-43ba-bbe6-a8dabd48daeb",
   "metadata": {},
   "outputs": [
    {
     "name": "stdout",
     "output_type": "stream",
     "text": [
      "XGBoost - Mean Squared Error: 3458734844.3228154\n",
      "XGBoost - Mean Absolute Error: 34150.73689038826\n",
      "XGBoost - R^2 Score: 0.5542632298490805\n"
     ]
    }
   ],
   "source": [
    "import pandas as pd\n",
    "from sklearn.model_selection import train_test_split\n",
    "from sklearn.preprocessing import StandardScaler\n",
    "from sklearn.metrics import mean_squared_error, r2_score, mean_absolute_error\n",
    "from sklearn.ensemble import RandomForestRegressor, StackingRegressor, VotingRegressor\n",
    "from sklearn.linear_model import ElasticNet, Lasso, Ridge, LinearRegression\n",
    "from sklearn.neighbors import KNeighborsRegressor\n",
    "from sklearn.preprocessing import PolynomialFeatures\n",
    "from sklearn.pipeline import Pipeline\n",
    "from sklearn.svm import SVR\n",
    "import tensorflow as tf\n",
    "from tensorflow.keras.models import Sequential\n",
    "from tensorflow.keras.layers import Dense\n",
    "from xgboost import XGBRegressor\n",
    "import pickle \n",
    "\n",
    "# Load datasets with specified encoding\n",
    "merged_df = pd.read_csv('New_Merged.csv')\n",
    "merged_df.dropna(inplace=True)\n",
    "\n",
    "# Select relevant features and target\n",
    "features = ['Temperature', 'Humidity', 'Wind', 'Wind Speed', 'Condition', 'pH (units)', 'Ammonia (mg/L)', 'Nitrate (mg/L)', 'Inorganic Phosphate (mg/L)', 'BOD (mg/l)', 'Dissolved Oxygen (mg/l)', 'Total coliforms (MPN/100ml)']\n",
    "target = 'Phytoplankton (cells/ml)'\n",
    "\n",
    "merged_df = merged_df.dropna()\n",
    "\n",
    "# Split data into training and testing sets\n",
    "X = merged_df[features]\n",
    "y = merged_df[target]\n",
    "X_train, X_test, y_train, y_test = train_test_split(X, y, test_size=0.2, random_state=42)\n",
    "\n",
    "# Standardize features\n",
    "scaler = StandardScaler()\n",
    "X_train_scaled = scaler.fit_transform(X_train)\n",
    "X_test_scaled = scaler.transform(X_test)\n",
    "\n",
    "\n",
    "# Gradient Boosting Machine (XGBoost)\n",
    "xgb_model = XGBRegressor()\n",
    "xgb_model.fit(X_train_scaled, y_train)\n",
    "y_pred_xgb = xgb_model.predict(X_test_scaled)\n",
    "mse_xgb = mean_squared_error(y_test, y_pred_xgb)\n",
    "mae_xgb = mean_absolute_error(y_test, y_pred_xgb)\n",
    "r2_xgb = r2_score(y_test, y_pred_xgb)\n",
    "\n",
    "print(f'XGBoost - Mean Squared Error: {mse_xgb}')\n",
    "print(f'XGBoost - Mean Absolute Error: {mae_xgb}')\n",
    "print(f'XGBoost - R^2 Score: {r2_xgb}')"
   ]
  },
  {
   "cell_type": "code",
   "execution_count": 13,
   "id": "ec6e9356-17c4-49ac-9903-41e2ecbbc781",
   "metadata": {},
   "outputs": [
    {
     "name": "stdout",
     "output_type": "stream",
     "text": [
      "Model saved to 'xgb_model.pkl'\n",
      "Loaded Model - Mean Squared Error: 3458734844.3228154\n",
      "Loaded Model - Mean Absolute Error: 34150.73689038826\n",
      "Loaded Model - R^2 Score: 0.5542632298490805\n"
     ]
    }
   ],
   "source": [
    "\n",
    "# Save the trained model to a file using pickle\n",
    "with open('xgb_model.pkl', 'wb') as file:\n",
    "    pickle.dump(xgb_model, file)\n",
    "\n",
    "print(\"Model saved to 'xgb_model.pkl'\")\n",
    "\n",
    "# Example: Loading and using the saved model\n",
    "# Load the model from the file\n",
    "with open('xgb_model.pkl', 'rb') as file:\n",
    "    loaded_svr_model = pickle.load(file)\n",
    "\n",
    "# Predict using the loaded model\n",
    "y_pred_loaded_model = loaded_svr_model.predict(X_test_scaled)\n",
    "\n",
    "# Evaluate predictions (if necessary)\n",
    "mse_loaded_model = mean_squared_error(y_test, y_pred_loaded_model)\n",
    "mae_loaded_model = mean_absolute_error(y_test, y_pred_loaded_model)\n",
    "r2_loaded_model = r2_score(y_test, y_pred_loaded_model)\n",
    "\n",
    "print(f'Loaded Model - Mean Squared Error: {mse_loaded_model}')\n",
    "print(f'Loaded Model - Mean Absolute Error: {mae_loaded_model}')\n",
    "print(f'Loaded Model - R^2 Score: {r2_loaded_model}')"
   ]
  },
  {
   "cell_type": "code",
   "execution_count": 17,
   "id": "33747d2e-d2aa-4c23-a3b5-d8321035f2ca",
   "metadata": {},
   "outputs": [],
   "source": [
    "with open('xgb_scaler.pkl', 'wb') as file:\n",
    "    pickle.dump(scaler, file)"
   ]
  },
  {
   "cell_type": "code",
   "execution_count": null,
   "id": "0d05b33f-eec1-4dc4-ac02-9a9d2aa3b44b",
   "metadata": {},
   "outputs": [],
   "source": []
  }
 ],
 "metadata": {
  "kernelspec": {
   "display_name": "Python 3 (ipykernel)",
   "language": "python",
   "name": "python3"
  },
  "language_info": {
   "codemirror_mode": {
    "name": "ipython",
    "version": 3
   },
   "file_extension": ".py",
   "mimetype": "text/x-python",
   "name": "python",
   "nbconvert_exporter": "python",
   "pygments_lexer": "ipython3",
   "version": "3.12.4"
  }
 },
 "nbformat": 4,
 "nbformat_minor": 5
}
